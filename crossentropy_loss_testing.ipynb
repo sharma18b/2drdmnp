{
  "nbformat": 4,
  "nbformat_minor": 0,
  "metadata": {
    "colab": {
      "name": "crossentropy loss testing.ipynb",
      "provenance": [],
      "collapsed_sections": [],
      "authorship_tag": "ABX9TyMUpAdJjpD06Fp82Qw7PMBV",
      "include_colab_link": true
    },
    "kernelspec": {
      "name": "python3",
      "display_name": "Python 3"
    },
    "language_info": {
      "name": "python"
    },
    "accelerator": "GPU"
  },
  "cells": [
    {
      "cell_type": "markdown",
      "metadata": {
        "id": "view-in-github",
        "colab_type": "text"
      },
      "source": [
        "<a href=\"https://colab.research.google.com/github/sharma18b/2drdmnp/blob/master/crossentropy_loss_testing.ipynb\" target=\"_parent\"><img src=\"https://colab.research.google.com/assets/colab-badge.svg\" alt=\"Open In Colab\"/></a>"
      ]
    },
    {
      "cell_type": "code",
      "execution_count": null,
      "metadata": {
        "colab": {
          "base_uri": "https://localhost:8080/"
        },
        "id": "bh0XqYD1Bs6j",
        "outputId": "172bcd9f-7262-42c0-e4b2-469178dc92c4"
      },
      "outputs": [
        {
          "output_type": "stream",
          "name": "stdout",
          "text": [
            "CrossEntropyLoss()\n",
            "tensor([[ 0.2874, -1.4834,  0.3847,  0.6024,  1.7583],\n",
            "        [-0.1510, -1.2777,  0.2358, -1.6293, -0.7189],\n",
            "        [ 0.0244, -0.1552, -0.4378,  1.1823,  0.7695]], requires_grad=True)\n",
            "tensor([4, 4, 0])\n",
            "tensor(-3.4778, grad_fn=<DivBackward1>)\n",
            "tensor([[ 0.2874, -1.4834,  0.3847,  0.6024,  1.7583],\n",
            "        [-0.1510, -1.2777,  0.2358, -1.6293, -0.7189],\n",
            "        [ 0.0244, -0.1552, -0.4378,  1.1823,  0.7695]], requires_grad=True)\n",
            "tensor([4, 4, 0])\n",
            "tensor([[ 1.2171,  0.9029,  0.1255,  0.7238,  0.0707],\n",
            "        [-0.6254,  0.8194, -0.9223,  2.2439, -0.7995],\n",
            "        [ 0.3753,  0.3209,  0.8299,  0.6153, -0.2474]], requires_grad=True)\n",
            "tensor([[0.2956, 0.1067, 0.0819, 0.3134, 0.2023],\n",
            "        [0.5710, 0.1825, 0.0417, 0.0955, 0.1093],\n",
            "        [0.1141, 0.2863, 0.2366, 0.3324, 0.0307]])\n",
            "tensor(1.9391, grad_fn=<DivBackward1>)\n"
          ]
        }
      ],
      "source": [
        "import torch\n",
        "from torch import nn\n",
        "criterion = nn.CrossEntropyLoss();\n",
        "# Example of target with class indices\n",
        "loss = nn.CrossEntropyLoss()\n",
        "print(loss)\n",
        "input = torch.randn(3, 5, requires_grad=True)\n",
        "target = torch.empty(3, dtype=torch.long).random_(5)\n",
        "print(input)\n",
        "print(target)\n",
        "output = loss(input, input)\n",
        "print(output)\n",
        "output.backward()\n",
        "\n",
        "\n",
        "\n",
        "print(input)\n",
        "print(target)\n",
        "# Example of target with class probabilities\n",
        "input = torch.randn(3, 5, requires_grad=True)\n",
        "target = torch.randn(3, 5).softmax(dim=1)\n",
        "\n",
        "print(input)\n",
        "print(target)\n",
        "output = loss(input, target)\n",
        "print(output)\n",
        "output.backward()\n"
      ]
    },
    {
      "cell_type": "code",
      "source": [
        "# Example of target with class probabilities\n",
        "import torch\n",
        "from torch import nn\n",
        "criterion = nn.CrossEntropyLoss();\n",
        "print(torch.__version__)\n",
        "device = torch.device(\"cuda\" if torch.cuda.is_available() else \"cpu\")\n",
        "print(device)\n",
        "# Example of target with class indices\n",
        "loss = nn.CrossEntropyLoss()\n",
        "input = torch.randn(3, 5, requires_grad=True).to(device)\n",
        "target = torch.randn(3, 5).softmax(dim=1).to(device)\n",
        "\n",
        "print(input)\n",
        "print(target)\n",
        "output = loss(input, target)\n",
        "print(output)\n",
        "output.backward()"
      ],
      "metadata": {
        "id": "hzxlaaf8Cap3",
        "colab": {
          "base_uri": "https://localhost:8080/"
        },
        "outputId": "cc9804db-cb62-4bf6-cece-6d98e6c567b1"
      },
      "execution_count": null,
      "outputs": [
        {
          "output_type": "stream",
          "name": "stdout",
          "text": [
            "1.10.0+cu111\n",
            "cuda\n",
            "tensor([[-1.0992, -1.1128,  3.6058, -1.3543, -2.4617],\n",
            "        [ 1.1540, -0.3214, -1.7675, -1.4823, -0.2447],\n",
            "        [ 0.2264,  0.8857, -0.2840,  1.2238, -1.1376]], device='cuda:0',\n",
            "       grad_fn=<ToCopyBackward0>)\n",
            "tensor([[0.1009, 0.5056, 0.0148, 0.2574, 0.1213],\n",
            "        [0.0298, 0.1031, 0.1914, 0.6078, 0.0679],\n",
            "        [0.1266, 0.0676, 0.6559, 0.1072, 0.0427]], device='cuda:0')\n",
            "tensor(3.2975, device='cuda:0', grad_fn=<DivBackward1>)\n"
          ]
        }
      ]
    },
    {
      "cell_type": "code",
      "source": [
        ""
      ],
      "metadata": {
        "id": "VmOJxgLQuXaz"
      },
      "execution_count": null,
      "outputs": []
    }
  ]
}